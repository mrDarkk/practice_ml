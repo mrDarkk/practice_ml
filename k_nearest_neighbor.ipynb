{
 "cells": [
  {
   "cell_type": "code",
   "execution_count": 17,
   "metadata": {},
   "outputs": [
    {
     "name": "stdout",
     "output_type": "stream",
     "text": [
      "result =\n",
      "R\n"
     ]
    }
   ],
   "source": [
    "# x=[1,2,7,8]\n",
    "# y=[1,2,7,8]\n",
    "import numpy as np\n",
    "from collections import Counter\n",
    "data = {'M' : [[1,1],[2,2]],\n",
    "        \"R\":[[7,7],[8,8]],}\n",
    "pd=[9,9]\n",
    "def knn(data,pd,k=3):\n",
    "    dis =[]\n",
    "    for group in data:\n",
    "        for features in data[group]:\n",
    "            euclidean_dis = np.linalg.norm(np.array(features)-np.array(pd))\n",
    "            dis.append([euclidean_dis,group])\n",
    "    votes = [i[1] for i in sorted(dis)[0:k]]\n",
    "    vote_res = Counter(votes).most_common(1)[0][0]\n",
    "    return vote_res\n",
    "# for i in data:\n",
    "#     for j in data[i]:\n",
    "#         print(j)\n",
    "res = knn(data,pd,3)\n",
    "print(\"result =\")\n",
    "print(res)\n"
   ]
  },
  {
   "cell_type": "code",
   "execution_count": 26,
   "metadata": {},
   "outputs": [
    {
     "name": "stdout",
     "output_type": "stream",
     "text": [
      "data points classification  [0 0 1 1 0 2]\n",
      "centroid of cluster  [[ 1.16666667  1.46666667  3.66666667]\n",
      " [ 6.5         8.          5.5       ]\n",
      " [ 9.         11.          5.        ]]\n"
     ]
    },
    {
     "data": {
      "text/plain": [
       "array([0, 1, 1, 2], dtype=int32)"
      ]
     },
     "execution_count": 26,
     "metadata": {},
     "output_type": "execute_result"
    }
   ],
   "source": [
    "import numpy as np\n",
    "from sklearn.cluster import KMeans\n",
    "import pandas as pd\n",
    "import matplotlib.pyplot as plt\n",
    "\n",
    "X_train = np.array([[1,2,4],\n",
    "                   [1.5,1.8,5],\n",
    "                   [5,8,5],\n",
    "                   [8,8,6],\n",
    "                   [1,0.6,2],\n",
    "                    [9,11,5]])\n",
    "X_test =  np.array([[2,4,6],\n",
    "                   [3,9,2],\n",
    "                   [5,10,5],\n",
    "                   [6,11,5]])\n",
    "model = KMeans(n_clusters = 3)\n",
    "model.fit(X_train)\n",
    "print(\"data points classification \",model.labels_)\n",
    "print(\"centroid of cluster \",model.cluster_centers_)\n",
    "model.predict(X_test)\n"
   ]
  },
  {
   "cell_type": "code",
   "execution_count": null,
   "metadata": {},
   "outputs": [],
   "source": []
  }
 ],
 "metadata": {
  "kernelspec": {
   "display_name": "Python 3",
   "language": "python",
   "name": "python3"
  },
  "language_info": {
   "codemirror_mode": {
    "name": "ipython",
    "version": 3
   },
   "file_extension": ".py",
   "mimetype": "text/x-python",
   "name": "python",
   "nbconvert_exporter": "python",
   "pygments_lexer": "ipython3",
   "version": "3.7.0"
  }
 },
 "nbformat": 4,
 "nbformat_minor": 2
}
